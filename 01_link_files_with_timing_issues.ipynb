{
 "cells": [
  {
   "cell_type": "markdown",
   "metadata": {},
   "source": [
    "# Preparing your data: Single acquisition with timing issues"
   ]
  },
  {
   "cell_type": "code",
   "execution_count": 1,
   "metadata": {},
   "outputs": [],
   "source": [
    "import numpy as np\n",
    "import xdas as xd"
   ]
  },
  {
   "cell_type": "markdown",
   "metadata": {},
   "source": [
    "Most instruments usually produces datasets made out of a multitude of files, each one containing a temporal chunk of the full acquisition. In Xdas you can virtually concatenate all those files to create a virtual dataset that allows to seamlessly access the entire dataset as if it was a unique file.\n",
    "\n",
    "In the example here, let's focus on several files that have been recorded with NTP synchronization:"
   ]
  },
  {
   "cell_type": "code",
   "execution_count": 2,
   "metadata": {},
   "outputs": [
    {
     "name": "stdout",
     "output_type": "stream",
     "text": [
      "021040.hdf5  021100.hdf5  021120.hdf5  022010.hdf5\n",
      "021050.hdf5  021110.hdf5  022000.hdf5\n"
     ]
    }
   ],
   "source": [
    "!ls data/ntp_sync  # several files with NTP sync"
   ]
  },
  {
   "cell_type": "markdown",
   "metadata": {},
   "source": [
    "We can open all the files from this folder and link them:"
   ]
  },
  {
   "cell_type": "code",
   "execution_count": 3,
   "metadata": {},
   "outputs": [
    {
     "data": {
      "text/plain": [
       "<xdas.DataArray (time: 8750, distance: 50000)>\n",
       "VirtualStack: 1.6GB (float32)\n",
       "Coordinates:\n",
       "  * time (time): 2021-11-11T02:10:40.693 to 2021-11-11T02:20:20.680\n",
       "  * distance (distance): 0.000 to 204255.953"
      ]
     },
     "execution_count": 3,
     "metadata": {},
     "output_type": "execute_result"
    }
   ],
   "source": [
    "da = xd.open_mfdataarray(\n",
    "    \"data/ntp_sync/*.hdf5\",  # path with wildcard\n",
    "    engine=\"asn\",  # do not forget to specify the format of the files\n",
    "    tolerance=None,  # by default, no tolerance is used to merge the files\n",
    ")\n",
    "da"
   ]
  },
  {
   "cell_type": "markdown",
   "metadata": {},
   "source": [
    "Xdas only loads the metadata from each file and returns a `DataArray` object. This object has mainly two attributes:\n",
    "- `data`: contains the data. Here a `VirtualStack` object that is a pointer to the different files we opened. \n",
    "- `coords`: contains the metadata related to how the space and the time are sampled. Here both dimensions are labeled using `InterpCoordinate` objects. Those allow to concisely store the time and space information, including potential gaps and overlaps. \n",
    "\n",
    "The advantage to bundle the data with coordinates is that it enables labeled indexing, i.e. selection by coordinates values and not by indices:"
   ]
  },
  {
   "cell_type": "code",
   "execution_count": 4,
   "metadata": {},
   "outputs": [
    {
     "name": "stdout",
     "output_type": "stream",
     "text": [
      "Oh no the following error occurred: fp must be strictly increasing\n"
     ]
    }
   ],
   "source": [
    "try:\n",
    "    da.sel(time=slice(\"2021-11-11T02:10:50\", \"2021-11-11T02:11:00\"))\n",
    "except ValueError as error:\n",
    "    print(\"Oh no the following error occurred:\", error)"
   ]
  },
  {
   "cell_type": "markdown",
   "metadata": {},
   "source": [
    "The `Value Error: fp must be strictly increasing` is obscure yet common error encountered in Xdas. It means that the coordinates values are not strictly increasing hence that overlaps are present. Overlaps break the bijection between coordinate indices and coordinate values and must be fixed. Most of the time they originate from bad time synchronization. Let's investigate the temporal dimension. \n",
    "\n",
    "We can investigate the temporal discontinuities like this:"
   ]
  },
  {
   "cell_type": "code",
   "execution_count": 5,
   "metadata": {},
   "outputs": [
    {
     "data": {
      "text/html": [
       "<div>\n",
       "<style scoped>\n",
       "    .dataframe tbody tr th:only-of-type {\n",
       "        vertical-align: middle;\n",
       "    }\n",
       "\n",
       "    .dataframe tbody tr th {\n",
       "        vertical-align: top;\n",
       "    }\n",
       "\n",
       "    .dataframe thead th {\n",
       "        text-align: right;\n",
       "    }\n",
       "</style>\n",
       "<table border=\"1\" class=\"dataframe\">\n",
       "  <thead>\n",
       "    <tr style=\"text-align: right;\">\n",
       "      <th></th>\n",
       "      <th>start_index</th>\n",
       "      <th>end_index</th>\n",
       "      <th>start_value</th>\n",
       "      <th>end_value</th>\n",
       "      <th>delta</th>\n",
       "      <th>type</th>\n",
       "    </tr>\n",
       "  </thead>\n",
       "  <tbody>\n",
       "    <tr>\n",
       "      <th>0</th>\n",
       "      <td>1249</td>\n",
       "      <td>1250</td>\n",
       "      <td>2021-11-11 02:10:50.685000192</td>\n",
       "      <td>2021-11-11 02:10:50.694000128</td>\n",
       "      <td>0 days 00:00:00.008999936</td>\n",
       "      <td>gap</td>\n",
       "    </tr>\n",
       "    <tr>\n",
       "      <th>1</th>\n",
       "      <td>2499</td>\n",
       "      <td>2500</td>\n",
       "      <td>2021-11-11 02:11:00.686000128</td>\n",
       "      <td>2021-11-11 02:11:00.683000064</td>\n",
       "      <td>-1 days +23:59:59.996999936</td>\n",
       "      <td>overlap</td>\n",
       "    </tr>\n",
       "    <tr>\n",
       "      <th>2</th>\n",
       "      <td>6249</td>\n",
       "      <td>6250</td>\n",
       "      <td>2021-11-11 02:11:30.675000064</td>\n",
       "      <td>2021-11-11 02:20:00.688000000</td>\n",
       "      <td>0 days 00:08:30.012999936</td>\n",
       "      <td>gap</td>\n",
       "    </tr>\n",
       "  </tbody>\n",
       "</table>\n",
       "</div>"
      ],
      "text/plain": [
       "   start_index  end_index                   start_value  \\\n",
       "0         1249       1250 2021-11-11 02:10:50.685000192   \n",
       "1         2499       2500 2021-11-11 02:11:00.686000128   \n",
       "2         6249       6250 2021-11-11 02:11:30.675000064   \n",
       "\n",
       "                      end_value                       delta     type  \n",
       "0 2021-11-11 02:10:50.694000128   0 days 00:00:00.008999936      gap  \n",
       "1 2021-11-11 02:11:00.683000064 -1 days +23:59:59.996999936  overlap  \n",
       "2 2021-11-11 02:20:00.688000000   0 days 00:08:30.012999936      gap  "
      ]
     },
     "execution_count": 5,
     "metadata": {},
     "output_type": "execute_result"
    }
   ],
   "source": [
    "da[\"time\"].get_discontinuities()"
   ]
  },
  {
   "cell_type": "markdown",
   "metadata": {},
   "source": [
    "As we can see two gaps an one overlap where found:\n",
    "- The first gap has a delta of 9 ms which is close to the sampling interval (here 125 Hz -> 8 ms)\n",
    "- The overlap is has a delta of -3 ms and is also probably due to a NTP resynchronization\n",
    "- The second gap has a delta of 8 min and 30 s and correspond to missing data\n",
    "\n",
    "To enforce the continuity over small misalignments of the timestamps, a tolerance ca be used: "
   ]
  },
  {
   "cell_type": "code",
   "execution_count": 6,
   "metadata": {},
   "outputs": [
    {
     "data": {
      "text/html": [
       "<div>\n",
       "<style scoped>\n",
       "    .dataframe tbody tr th:only-of-type {\n",
       "        vertical-align: middle;\n",
       "    }\n",
       "\n",
       "    .dataframe tbody tr th {\n",
       "        vertical-align: top;\n",
       "    }\n",
       "\n",
       "    .dataframe thead th {\n",
       "        text-align: right;\n",
       "    }\n",
       "</style>\n",
       "<table border=\"1\" class=\"dataframe\">\n",
       "  <thead>\n",
       "    <tr style=\"text-align: right;\">\n",
       "      <th></th>\n",
       "      <th>start_index</th>\n",
       "      <th>end_index</th>\n",
       "      <th>start_value</th>\n",
       "      <th>end_value</th>\n",
       "      <th>delta</th>\n",
       "      <th>type</th>\n",
       "    </tr>\n",
       "  </thead>\n",
       "  <tbody>\n",
       "    <tr>\n",
       "      <th>0</th>\n",
       "      <td>6249</td>\n",
       "      <td>6250</td>\n",
       "      <td>2021-11-11 02:11:30.675000064</td>\n",
       "      <td>2021-11-11 02:20:00.688</td>\n",
       "      <td>0 days 00:08:30.012999936</td>\n",
       "      <td>gap</td>\n",
       "    </tr>\n",
       "  </tbody>\n",
       "</table>\n",
       "</div>"
      ],
      "text/plain": [
       "   start_index  end_index                   start_value  \\\n",
       "0         6249       6250 2021-11-11 02:11:30.675000064   \n",
       "\n",
       "                end_value                     delta type  \n",
       "0 2021-11-11 02:20:00.688 0 days 00:08:30.012999936  gap  "
      ]
     },
     "execution_count": 6,
     "metadata": {},
     "output_type": "execute_result"
    }
   ],
   "source": [
    "# the `tolerance` can be directly passed to `open_mfdataarray`\n",
    "tolerance = np.timedelta64(30, \"ms\")  # usually enough for NTP synchronized experiments\n",
    "da[\"time\"] = da[\"time\"].simplify(tolerance)\n",
    "da[\"time\"].get_discontinuities()"
   ]
  },
  {
   "cell_type": "markdown",
   "metadata": {},
   "source": [
    "Now only the real gap is present and labled selection can be done without errors:"
   ]
  },
  {
   "cell_type": "code",
   "execution_count": 7,
   "metadata": {},
   "outputs": [
    {
     "data": {
      "text/plain": [
       "<xdas.DataArray (time: 1250, distance: 19583)>\n",
       "VirtualStack: 93.4MB (float32)\n",
       "Coordinates:\n",
       "  * time (time): 2021-11-11T02:10:50.003 to 2021-11-11T02:10:59.993\n",
       "  * distance (distance): 20001.143 to 99997.544"
      ]
     },
     "execution_count": 7,
     "metadata": {},
     "output_type": "execute_result"
    }
   ],
   "source": [
    "da.sel(\n",
    "    time=slice(\"2021-11-11T02:10:50\", \"2021-11-11T02:11:00\"),\n",
    "    distance=slice(20_000, 100_000),  # Do not forget the `slice`\n",
    ")"
   ]
  },
  {
   "cell_type": "markdown",
   "metadata": {},
   "source": [
    "This virtually consolidated file can be saved to disk without copying the data, the resulting file will only contains pointers where the data is located. "
   ]
  },
  {
   "cell_type": "code",
   "execution_count": 8,
   "metadata": {},
   "outputs": [],
   "source": [
    "# Xdas tries to write data virtually by default\n",
    "da.to_netcdf(\"outputs/ntp.nc\", virtual=True)"
   ]
  }
 ],
 "metadata": {
  "kernelspec": {
   "display_name": "xdas-dev",
   "language": "python",
   "name": "python3"
  },
  "language_info": {
   "codemirror_mode": {
    "name": "ipython",
    "version": 3
   },
   "file_extension": ".py",
   "mimetype": "text/x-python",
   "name": "python",
   "nbconvert_exporter": "python",
   "pygments_lexer": "ipython3",
   "version": "3.12.3"
  }
 },
 "nbformat": 4,
 "nbformat_minor": 2
}
