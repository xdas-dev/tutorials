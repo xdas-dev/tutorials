{
 "cells": [
  {
   "cell_type": "markdown",
   "metadata": {},
   "source": [
    "# Prepare your data: Multiple acquisitions\n",
    "\n",
    "Sometimes you might need to work with different DataArray at the same time. Xdas introduce the `DataCollection` object which is a nesting of DataArray objects. In the context of DAS it is typically used to combine multiple acquisition with potentially different sampling configurations together or to facilitate operations across different instruments.\n",
    "\n",
    "It is imported to know that data collections come in two flavours:\n",
    "- `DataMapping` that behaves as `dict`\n",
    "- `DataSequence` that behaves as `list`\n",
    "\n",
    "Here we introduce two scenarios:\n",
    "- Multi-instruments acquisition.\n",
    "- Extraction of a catalog of events. "
   ]
  },
  {
   "cell_type": "code",
   "execution_count": 1,
   "metadata": {},
   "outputs": [],
   "source": [
    "import numpy as np\n",
    "import xdas as xd"
   ]
  },
  {
   "cell_type": "markdown",
   "metadata": {},
   "source": [
    "## 1. Multi-instrument acquisitions\n",
    "\n",
    "If you had the opportunity to use several instrument to interrogate several cables at the same time you might end up with several acquisitions. In this example, we investigate 10 min of data recorded simultaneously by three cables.\n",
    "\n",
    "### Preparing the data\n",
    "\n",
    "Let's have a look at the `data/gps_multicable` folder. The hdf5 files are stored in a folder architecture organized by:\n",
    "- node: the landing point of the fiber, where the instrument is located\n",
    "- fiber orientation: N for a fiber going to the north and S to the south\n",
    "- acquisition: all the hdf5 files of the folder\n",
    "\n",
    "Xdas implements the `open_datatree` function to deal with such file hierarchy.\n",
    "\n",
    "The folder architecture is described by passing a string with {} for folders levels and the files with []."
   ]
  },
  {
   "cell_type": "code",
   "execution_count": 2,
   "metadata": {},
   "outputs": [
    {
     "data": {
      "text/plain": [
       "Node:\n",
       "  CCN: \n",
       "    Cable:\n",
       "      N: \n",
       "        Acquisition:\n",
       "          0: <xdas.DataArray (time: 37500, distance: 9998)>\n",
       "  SER: \n",
       "    Cable:\n",
       "      N: \n",
       "        Acquisition:\n",
       "          0: <xdas.DataArray (time: 37500, distance: 10000)>\n",
       "      S: \n",
       "        Acquisition:\n",
       "          0: <xdas.DataArray (time: 37500, distance: 10000)>"
      ]
     },
     "execution_count": 2,
     "metadata": {},
     "output_type": "execute_result"
    }
   ],
   "source": [
    "dc = xd.open_mfdatatree(\n",
    "    \"data/gps_multicable/{node}/{cable}/[acquisition].hdf5\", engine=\"asn\"\n",
    ")\n",
    "dc"
   ]
  },
  {
   "cell_type": "markdown",
   "metadata": {},
   "source": [
    "The CCN node has 1 fiber going to the north and SER node has 2 fibers going to north and south.\n",
    "\n",
    "In this example, we have one acquisition per fiber because no change in acquisition parameter was done over that time period. Otherwise several data arrays will be present in the acquisition list.\n",
    "\n",
    "## Working with DataCollection objects\n",
    "\n",
    "Collection produced with the `open_datatree` function are a nesting of DataMapping objects (behaves as a dict) down to the last leave that is a DataSequence objects (behaves as list)\n",
    "\n",
    "Everything you can do with dict and list can be done with data mappings sequences.\n",
    "\n",
    "### Getting and element"
   ]
  },
  {
   "cell_type": "code",
   "execution_count": 3,
   "metadata": {},
   "outputs": [
    {
     "data": {
      "text/plain": [
       "<xdas.DataArray (time: 37500, distance: 9998)>\n",
       "VirtualStack: 715.1MB (int16)\n",
       "Coordinates:\n",
       "  * time (time): 2023-11-03T12:20:06.000 to 2023-11-03T12:30:05.984\n",
       "  * distance (distance): 0.000 to 153149.070"
      ]
     },
     "execution_count": 3,
     "metadata": {},
     "output_type": "execute_result"
    }
   ],
   "source": [
    "dc[\"CCN\"][\"N\"][0]"
   ]
  },
  {
   "cell_type": "markdown",
   "metadata": {},
   "source": [
    "### Setting new elements"
   ]
  },
  {
   "cell_type": "code",
   "execution_count": 4,
   "metadata": {},
   "outputs": [
    {
     "data": {
      "text/plain": [
       "Node:\n",
       "  CCN: \n",
       "    Cable:\n",
       "      N: \n",
       "        Acquisition:\n",
       "          0: <xdas.DataArray (time: 37500, distance: 9998)>\n",
       "      S: \n",
       "        Acquisition:\n",
       "          0: <xdas.DataArray (time: 37500, distance: 9998)>\n",
       "          1: <xdas.DataArray (time: 37500, distance: 9998)>\n",
       "  SER: \n",
       "    Cable:\n",
       "      N: \n",
       "        Acquisition:\n",
       "          0: <xdas.DataArray (time: 37500, distance: 10000)>\n",
       "      S: \n",
       "        Acquisition:\n",
       "          0: <xdas.DataArray (time: 37500, distance: 10000)>\n",
       "  CAL: \n",
       "    Cable:\n",
       "      N: \n",
       "        Acquisition:\n",
       "          0: <xdas.DataArray (time: 37500, distance: 9998)>"
      ]
     },
     "execution_count": 4,
     "metadata": {},
     "output_type": "execute_result"
    }
   ],
   "source": [
    "# Here we set copy of existing data for simplicity\n",
    "dc_set = dc.copy(deep=True)\n",
    "dc_set[\"CCN\"][\"S\"] = dc[\"CCN\"][\"N\"].copy()  # add same data to another fiber for example\n",
    "dc_set[\"CCN\"][\"S\"].append(dc[\"CCN\"][\"N\"][0].copy())  # behaves like a list\n",
    "dc_set.update({\"CAL\": dc[\"CCN\"].copy()})  # behaves like a dict\n",
    "dc_set"
   ]
  },
  {
   "cell_type": "markdown",
   "metadata": {},
   "source": [
    "### Iterating"
   ]
  },
  {
   "cell_type": "code",
   "execution_count": 5,
   "metadata": {},
   "outputs": [],
   "source": [
    "for node in dc:\n",
    "    for cable in dc[node]:\n",
    "        for da in dc[node][cable]:\n",
    "            ...\n",
    "            # do something with da"
   ]
  },
  {
   "cell_type": "markdown",
   "metadata": {},
   "source": [
    "Some methods of the `DataArray` class has been ported to the `DataCollection` class. In that case the operation is applied to each element of the collection :\n",
    "\n",
    "### Label-based indexing"
   ]
  },
  {
   "cell_type": "code",
   "execution_count": 6,
   "metadata": {},
   "outputs": [
    {
     "data": {
      "text/plain": [
       "Node:\n",
       "  CCN: \n",
       "    Cable:\n",
       "      N: \n",
       "        Acquisition:\n",
       "          0: <xdas.DataArray (time: 4376, distance: 9998)>\n",
       "  SER: \n",
       "    Cable:\n",
       "      N: \n",
       "        Acquisition:\n",
       "          0: <xdas.DataArray (time: 4375, distance: 10000)>\n",
       "      S: \n",
       "        Acquisition:\n",
       "          0: <xdas.DataArray (time: 4376, distance: 10000)>"
      ]
     },
     "execution_count": 6,
     "metadata": {},
     "output_type": "execute_result"
    }
   ],
   "source": [
    "dc_sel = dc.sel(time=slice(\"2023-11-03T12:26:40\", \"2023-11-03T12:27:50\"))\n",
    "dc_sel"
   ]
  },
  {
   "cell_type": "markdown",
   "metadata": {},
   "source": [
    "### Saved linked collection to disk\n",
    "\n",
    "Once you are happy with you collection you can also write it down virtually for later work."
   ]
  },
  {
   "cell_type": "code",
   "execution_count": 7,
   "metadata": {},
   "outputs": [],
   "source": [
    "dc.to_netcdf(\"outputs/multicable.nc\")  # virtual=True by default"
   ]
  },
  {
   "cell_type": "markdown",
   "metadata": {},
   "source": [
    "## 2. Collection of events"
   ]
  },
  {
   "cell_type": "markdown",
   "metadata": {},
   "source": [
    "In this example start from a single acquisition. We then construct a list or a dict of earthquakes with or without IDs."
   ]
  },
  {
   "cell_type": "code",
   "execution_count": 8,
   "metadata": {},
   "outputs": [],
   "source": [
    "# back to one acquisition\n",
    "da = dc[\"SER\"][\"N\"][0]\n",
    "da.to_netcdf(\"outputs/singlecable.nc\")  # save for later use"
   ]
  },
  {
   "cell_type": "markdown",
   "metadata": {},
   "source": [
    "### As a DataSequence object"
   ]
  },
  {
   "cell_type": "code",
   "execution_count": 9,
   "metadata": {},
   "outputs": [
    {
     "data": {
      "text/plain": [
       "Event:\n",
       "  0: <xdas.DataArray (time: 1563, distance: 10000)>\n",
       "  1: <xdas.DataArray (time: 4375, distance: 10000)>"
      ]
     },
     "execution_count": 9,
     "metadata": {},
     "output_type": "execute_result"
    }
   ],
   "source": [
    "# Passing a list gives a DataSequence\n",
    "xd.DataCollection(\n",
    "    [\n",
    "        da.sel(time=slice(\"2023-11-03T12:23:35\", \"2023-11-03T12:24:00\")),\n",
    "        da.sel(time=slice(\"2023-11-03T12:26:40\", \"2023-11-03T12:27:50\")),\n",
    "    ],\n",
    "    name=\"event\",  # optional name\n",
    ")"
   ]
  },
  {
   "cell_type": "markdown",
   "metadata": {},
   "source": [
    "### As a DataMapping object"
   ]
  },
  {
   "cell_type": "code",
   "execution_count": 10,
   "metadata": {},
   "outputs": [
    {
     "data": {
      "text/plain": [
       "Event:\n",
       "  id_000000: <xdas.DataArray (time: 1563, distance: 10000)>\n",
       "  id_000001: <xdas.DataArray (time: 4375, distance: 10000)>"
      ]
     },
     "execution_count": 10,
     "metadata": {},
     "output_type": "execute_result"
    }
   ],
   "source": [
    "# Passing a dict gives a DataMapping\n",
    "xd.DataCollection(\n",
    "    {\n",
    "        \"id_000000\": da.sel(time=slice(\"2023-11-03T12:23:35\", \"2023-11-03T12:24:00\")),\n",
    "        \"id_000001\": da.sel(time=slice(\"2023-11-03T12:26:40\", \"2023-11-03T12:27:50\")),\n",
    "    },\n",
    "    name=\"event\",  # optional name\n",
    ")"
   ]
  },
  {
   "cell_type": "markdown",
   "metadata": {},
   "source": [
    "### Combining everything\n",
    "\n",
    "For fun we can also combine both scenarios in a single DataCollection:"
   ]
  },
  {
   "cell_type": "code",
   "execution_count": 11,
   "metadata": {},
   "outputs": [
    {
     "data": {
      "text/plain": [
       "Event:\n",
       "  id_000000: \n",
       "    Node:\n",
       "      CCN: \n",
       "        Cable:\n",
       "          N: \n",
       "            Acquisition:\n",
       "              0: <xdas.DataArray (time: 1563, distance: 9998)>\n",
       "      SER: \n",
       "        Cable:\n",
       "          N: \n",
       "            Acquisition:\n",
       "              0: <xdas.DataArray (time: 1563, distance: 10000)>\n",
       "          S: \n",
       "            Acquisition:\n",
       "              0: <xdas.DataArray (time: 1563, distance: 10000)>\n",
       "  id_000001: \n",
       "    Node:\n",
       "      CCN: \n",
       "        Cable:\n",
       "          N: \n",
       "            Acquisition:\n",
       "              0: <xdas.DataArray (time: 4376, distance: 9998)>\n",
       "      SER: \n",
       "        Cable:\n",
       "          N: \n",
       "            Acquisition:\n",
       "              0: <xdas.DataArray (time: 4375, distance: 10000)>\n",
       "          S: \n",
       "            Acquisition:\n",
       "              0: <xdas.DataArray (time: 4376, distance: 10000)>"
      ]
     },
     "execution_count": 11,
     "metadata": {},
     "output_type": "execute_result"
    }
   ],
   "source": [
    "# Here each event is a DataCollection\n",
    "xd.DataCollection(\n",
    "    {\n",
    "        \"id_000000\": dc.sel(time=slice(\"2023-11-03T12:23:35\", \"2023-11-03T12:24:00\")),\n",
    "        \"id_000001\": dc.sel(time=slice(\"2023-11-03T12:26:40\", \"2023-11-03T12:27:50\")),\n",
    "    },\n",
    "    name=\"event\",  # optional name\n",
    ")"
   ]
  }
 ],
 "metadata": {
  "kernelspec": {
   "display_name": "Python 3",
   "language": "python",
   "name": "python3"
  },
  "language_info": {
   "codemirror_mode": {
    "name": "ipython",
    "version": 3
   },
   "file_extension": ".py",
   "mimetype": "text/x-python",
   "name": "python",
   "nbconvert_exporter": "python",
   "pygments_lexer": "ipython3",
   "version": "3.12.3"
  }
 },
 "nbformat": 4,
 "nbformat_minor": 2
}
